{
  "cells": [
    {
      "cell_type": "markdown",
      "metadata": {
        "colab_type": "text",
        "id": "view-in-github"
      },
      "source": [
        "<a href=\"https://colab.research.google.com/github/BrouthenKamel/HAICK-2023/blob/main/HAICK_2023_PCMB_challenge.ipynb\" target=\"_parent\"><img src=\"https://colab.research.google.com/assets/colab-badge.svg\" alt=\"Open In Colab\"/></a>"
      ]
    },
    {
      "cell_type": "code",
      "execution_count": null,
      "metadata": {
        "id": "qmw7L6Ix3Xr9"
      },
      "outputs": [],
      "source": [
        "from google.colab import drive\n",
        "drive.mount('/gdrive')\n",
        "%cd /gdrive\n",
        "data_path = '/gdrive/MyDrive/molecules/'"
      ]
    },
    {
      "cell_type": "code",
      "execution_count": null,
      "metadata": {
        "id": "S2gOOCpy3c6V"
      },
      "outputs": [],
      "source": [
        "import pandas as pd\n",
        "import numpy as np\n",
        "import matplotlib.pyplot as plt\n",
        "import sklearn\n",
        "import tensorflow as tf\n",
        "from sklearn.preprocessing import StandardScaler\n",
        "from sklearn.decomposition import PCA\n",
        "from sklearn.model_selection import train_test_split\n",
        "from xgboost import XGBClassifier\n",
        "from sklearn.metrics import accuracy_score\n",
        "from sklearn.model_selection import GridSearchCV"
      ]
    },
    {
      "cell_type": "code",
      "execution_count": null,
      "metadata": {
        "id": "3spHGd_i3oXn"
      },
      "outputs": [],
      "source": [
        "train_paths = ['ERBB1.csv', 'ERBB2.csv','FLT-3.csv','HDACL1.csv','LCK.csv',]\n",
        "test_paths = ['test_ERBB1_Target_Descriptors.csv','test_ERBB2_Target_Descriptors.csv','test_FLT-3_Target_Descriptors.csv','test_HDACL1_Target_Descriptors.csv','test_LCK_Target_Descriptors.csv']"
      ]
    },
    {
      "cell_type": "code",
      "execution_count": null,
      "metadata": {
        "id": "vq1KYZr43_tI"
      },
      "outputs": [],
      "source": [
        "def train_func(path, train_paths, test_paths, pca_rate, test_size):\n",
        "  accuracies = []\n",
        "  submissions = {\n",
        "      'Id' : [] ,\n",
        "      'Activity' : []\n",
        "  }\n",
        "\n",
        "  for p,q in zip(train_paths, test_paths):\n",
        "    #prepare data\n",
        "    print(\"\\nTreating the file : \", p)\n",
        "    df = pd.read_csv(path + p)\n",
        "    df = df.fillna(df.mean())\n",
        "    df = df.drop_duplicates()\n",
        "    df[\"Activity\"].replace({'active':1, 'nonactive':0}, inplace = True)\n",
        "    \n",
        "    # X and y\n",
        "    X = df.drop(columns = ['Activity', 'CHEMBL_ID'])\n",
        "    y = df[\"Activity\"]\n",
        "\n",
        "    # Standardize\n",
        "    scaler = StandardScaler()\n",
        "    X_std = scaler.fit_transform(X)\n",
        "    X_std = pd.DataFrame(X_std, columns=X.columns)\n",
        "\n",
        "    #PCA\n",
        "    pca = PCA(n_components = pca_rate)\n",
        "    X_pca = pca.fit_transform(X_std)\n",
        "    X_pca = pd.DataFrame(X_pca)\n",
        "\n",
        "    #Split\n",
        "    X_train, X_test, y_train, y_test = train_test_split(X_pca, y, test_size=test_size, stratify = y , random_state=42)\n",
        "\n",
        "    #Search the params\n",
        "    param_grid = {\n",
        "        'learning_rate': [0.1, 0.08, 1.02],\n",
        "        'max_depth': [15, 20],\n",
        "        'n_estimators': [700, 800],\n",
        "    }\n",
        "\n",
        "    # Create the XGBoost classifier\n",
        "    clf = XGBClassifier(n_jobs=-1)\n",
        "\n",
        "    # Create the grid search object\n",
        "    grid_search = GridSearchCV(\n",
        "        clf, param_grid=param_grid, cv=4, scoring='accuracy', n_jobs=-1\n",
        "    )\n",
        "\n",
        "    # Fit the grid search to the data\n",
        "    grid_search.fit(X_pca, y)\n",
        "\n",
        "    # Print the best hyperparameters and score\n",
        "    print(\"Best hyperparameters:\", grid_search.best_params_)\n",
        "    print(\"Best score:\", grid_search.best_score_)\n",
        "\n",
        "    #model\n",
        "    xgb = grid_search.best_estimator_\n",
        "    xgb.fit(X_train, y_train)\n",
        "\n",
        "    #test\n",
        "    y_pred = xgb.predict(X_test)\n",
        "    accuracy = accuracy_score(y_test, y_pred)\n",
        "    accuracies.append(accuracy)\n",
        "\n",
        "    #prediction\n",
        "    df_test = pd.read_csv(path + q)\n",
        "\n",
        "    df_test = df_test.fillna(df_test.mean())\n",
        "\n",
        "    ids = df_test['CHEMBL_ID']\n",
        "    df_test = df_test.drop(columns = ['CHEMBL_ID', \"Unnamed: 0\"])\n",
        "\n",
        "    #prepare_test\n",
        "    df_test_scaled = scaler.transform(df_test)\n",
        "    df_test_pca = pca.transform(df_test_scaled)\n",
        "    df_test_pca = pd.DataFrame(df_test_pca)\n",
        "\n",
        "    predictions = xgb.predict(df_test_pca)\n",
        "\n",
        "    #construct submission\n",
        "    for id, prediction in zip(ids, predictions):\n",
        "      submissions[\"Id\"].append(id)\n",
        "      if( prediction == 1 ):\n",
        "        submissions[\"Activity\"].append('active')\n",
        "      else:\n",
        "        submissions[\"Activity\"].append('nonactive')\n",
        "\n",
        "  return accuracies, submissions"
      ]
    },
    {
      "cell_type": "code",
      "execution_count": null,
      "metadata": {
        "colab": {
          "base_uri": "https://localhost:8080/"
        },
        "id": "PTvXw0S36SVS",
        "outputId": "b31f8545-d744-4681-930c-37b735191cd9"
      },
      "outputs": [],
      "source": [
        "dataframes = dict()\n",
        "for pca_rate in [0.95, 0.99]:\n",
        "  acc, submission = train_func(path=data_path, train_paths=train_paths, test_paths=test_paths, pca_rate=pca_rate, test_size=0.1)\n",
        "  dataframes[str(pca_rate)] = (acc, submission)"
      ]
    },
    {
      "cell_type": "code",
      "execution_count": null,
      "metadata": {
        "id": "dn9uoPowZogm"
      },
      "outputs": [],
      "source": [
        "for pca_rate in [0.97, 0.98, 0.99]:\n",
        "  print(pca_rate, \" -> \", dataframes[str(pca_rate)][0])\n",
        "  mean = 0\n",
        "  for  i in dataframes[str(pca_rate)][0]:\n",
        "    mean += i\n",
        "  print(\"mean = \", mean/5)"
      ]
    },
    {
      "cell_type": "code",
      "execution_count": null,
      "metadata": {
        "id": "Tv0JgNZY_0QH"
      },
      "outputs": [],
      "source": [
        "submit = pd.DataFrame( dataframes[str(0.99)][1])\n",
        "submit.to_csv('/content/pcmb_pause.csv', index=False)"
      ]
    },
    {
      "cell_type": "markdown",
      "metadata": {
        "id": "AUk66TFokwfS"
      },
      "source": [
        "**DEEP LEARNING**"
      ]
    },
    {
      "cell_type": "code",
      "execution_count": null,
      "metadata": {
        "id": "-FHia5dCk2mN"
      },
      "outputs": [],
      "source": [
        "data = pd.read_csv(data_path + train_paths[0])\n",
        "data = data.fillna(data.mean())\n",
        "data = data.drop_duplicates()\n",
        "data[\"Activity\"].replace({'active':1, 'nonactive':0}, inplace = True)\n",
        "X = data.drop(columns = ['Activity', 'CHEMBL_ID'])\n",
        "y = data[\"Activity\"]\n",
        "\n",
        "# Standardize\n",
        "scaler = StandardScaler()\n",
        "X_std = scaler.fit_transform(X)\n",
        "X_std = pd.DataFrame(X_std, columns=X.columns)\n",
        "\n",
        "#PCA\n",
        "pca = PCA(n_components = 0.99)\n",
        "X_pca = pca.fit_transform(X_std)\n",
        "X_pca = pd.DataFrame(X_pca)\n",
        "\n",
        "#Split\n",
        "X_train, X_test, y_train, y_test = train_test_split(X_pca, y, test_size=0.3, stratify = y , random_state=42)"
      ]
    },
    {
      "cell_type": "code",
      "execution_count": null,
      "metadata": {
        "id": "dQfrrhyUmN1q"
      },
      "outputs": [],
      "source": [
        "import tensorflow as tf"
      ]
    },
    {
      "cell_type": "code",
      "execution_count": null,
      "metadata": {
        "id": "-1mYJOB6mmly"
      },
      "outputs": [],
      "source": [
        "# Define the model architecture\n",
        "model = tf.keras.Sequential([\n",
        "    tf.keras.layers.Dense(64, activation='relu', input_shape=(X_train.shape[1],)),\n",
        "    tf.keras.layers.Dropout(0.2),\n",
        "    tf.keras.layers.Dense(32, activation='relu'),\n",
        "    tf.keras.layers.Dropout(0.2),\n",
        "    tf.keras.layers.Dense(16, activation='relu'),\n",
        "    tf.keras.layers.Dropout(0.2),\n",
        "    tf.keras.layers.Dense(1, activation='sigmoid')\n",
        "])"
      ]
    },
    {
      "cell_type": "code",
      "execution_count": null,
      "metadata": {
        "id": "HdOOdVEFmnEJ"
      },
      "outputs": [],
      "source": [
        "# Compile the model with appropriate loss function and optimizer\n",
        "model.compile(optimizer='adam',\n",
        "              loss='binary_crossentropy',\n",
        "              metrics=['accuracy'])"
      ]
    },
    {
      "cell_type": "code",
      "execution_count": null,
      "metadata": {
        "colab": {
          "base_uri": "https://localhost:8080/"
        },
        "id": "wpi4wRammncn",
        "outputId": "2d65cb7f-1cab-466f-e19a-aabd1ab6a2f7"
      },
      "outputs": [
        {
          "name": "stdout",
          "output_type": "stream",
          "text": [
            "Epoch 1/20\n",
            "90/90 [==============================] - 2s 6ms/step - loss: 0.7090 - accuracy: 0.5521 - val_loss: 0.6159 - val_accuracy: 0.6545\n",
            "Epoch 2/20\n",
            "90/90 [==============================] - 0s 3ms/step - loss: 0.6239 - accuracy: 0.6381 - val_loss: 0.5811 - val_accuracy: 0.7077\n",
            "Epoch 3/20\n",
            "90/90 [==============================] - 0s 3ms/step - loss: 0.5878 - accuracy: 0.6853 - val_loss: 0.5411 - val_accuracy: 0.7273\n",
            "Epoch 4/20\n",
            "90/90 [==============================] - 0s 3ms/step - loss: 0.5652 - accuracy: 0.7031 - val_loss: 0.5304 - val_accuracy: 0.7371\n",
            "Epoch 5/20\n",
            "90/90 [==============================] - 0s 3ms/step - loss: 0.5476 - accuracy: 0.7255 - val_loss: 0.5209 - val_accuracy: 0.7371\n",
            "Epoch 6/20\n",
            "90/90 [==============================] - 0s 3ms/step - loss: 0.5238 - accuracy: 0.7409 - val_loss: 0.5089 - val_accuracy: 0.7552\n",
            "Epoch 7/20\n",
            "90/90 [==============================] - 0s 3ms/step - loss: 0.5108 - accuracy: 0.7441 - val_loss: 0.4967 - val_accuracy: 0.7566\n",
            "Epoch 8/20\n",
            "90/90 [==============================] - 0s 3ms/step - loss: 0.4952 - accuracy: 0.7668 - val_loss: 0.4957 - val_accuracy: 0.7580\n",
            "Epoch 9/20\n",
            "90/90 [==============================] - 0s 3ms/step - loss: 0.4850 - accuracy: 0.7668 - val_loss: 0.4866 - val_accuracy: 0.7566\n",
            "Epoch 10/20\n",
            "90/90 [==============================] - 0s 4ms/step - loss: 0.4640 - accuracy: 0.7818 - val_loss: 0.4830 - val_accuracy: 0.7524\n",
            "Epoch 11/20\n",
            "90/90 [==============================] - 0s 3ms/step - loss: 0.4600 - accuracy: 0.7794 - val_loss: 0.4751 - val_accuracy: 0.7664\n",
            "Epoch 12/20\n",
            "90/90 [==============================] - 0s 3ms/step - loss: 0.4503 - accuracy: 0.7822 - val_loss: 0.4750 - val_accuracy: 0.7748\n",
            "Epoch 13/20\n",
            "90/90 [==============================] - 0s 3ms/step - loss: 0.4343 - accuracy: 0.8056 - val_loss: 0.4759 - val_accuracy: 0.7706\n",
            "Epoch 14/20\n",
            "90/90 [==============================] - 0s 3ms/step - loss: 0.4352 - accuracy: 0.8017 - val_loss: 0.4662 - val_accuracy: 0.7818\n",
            "Epoch 15/20\n",
            "90/90 [==============================] - 0s 3ms/step - loss: 0.4217 - accuracy: 0.8028 - val_loss: 0.4716 - val_accuracy: 0.7776\n",
            "Epoch 16/20\n",
            "90/90 [==============================] - 0s 3ms/step - loss: 0.4197 - accuracy: 0.8024 - val_loss: 0.4687 - val_accuracy: 0.7832\n",
            "Epoch 17/20\n",
            "90/90 [==============================] - 0s 3ms/step - loss: 0.4092 - accuracy: 0.8199 - val_loss: 0.4624 - val_accuracy: 0.7874\n",
            "Epoch 18/20\n",
            "90/90 [==============================] - 0s 3ms/step - loss: 0.3956 - accuracy: 0.8206 - val_loss: 0.4617 - val_accuracy: 0.7804\n",
            "Epoch 19/20\n",
            "90/90 [==============================] - 0s 3ms/step - loss: 0.3943 - accuracy: 0.8290 - val_loss: 0.4661 - val_accuracy: 0.7804\n",
            "Epoch 20/20\n",
            "90/90 [==============================] - 0s 3ms/step - loss: 0.3771 - accuracy: 0.8357 - val_loss: 0.4627 - val_accuracy: 0.7818\n"
          ]
        },
        {
          "data": {
            "text/plain": [
              "<keras.callbacks.History at 0x7fab180df250>"
            ]
          },
          "execution_count": 94,
          "metadata": {},
          "output_type": "execute_result"
        }
      ],
      "source": [
        "# Train the model on the training data\n",
        "model.fit(X_train, y_train, epochs=20, validation_split=0.2)"
      ]
    },
    {
      "cell_type": "code",
      "execution_count": null,
      "metadata": {
        "colab": {
          "base_uri": "https://localhost:8080/"
        },
        "id": "EMuhzvh2mtz2",
        "outputId": "6a388424-2c84-4992-cb96-9a16b3940bcf"
      },
      "outputs": [
        {
          "name": "stdout",
          "output_type": "stream",
          "text": [
            "48/48 [==============================] - 0s 2ms/step - loss: 0.7928 - accuracy: 0.7795\n"
          ]
        }
      ],
      "source": [
        "# Evaluate the model on the test data\n",
        "test_loss, test_acc = model.evaluate(X_test, y_test)"
      ]
    }
  ],
  "metadata": {
    "accelerator": "GPU",
    "colab": {
      "include_colab_link": true,
      "provenance": []
    },
    "gpuClass": "standard",
    "kernelspec": {
      "display_name": "Python 3",
      "name": "python3"
    },
    "language_info": {
      "name": "python"
    }
  },
  "nbformat": 4,
  "nbformat_minor": 0
}
