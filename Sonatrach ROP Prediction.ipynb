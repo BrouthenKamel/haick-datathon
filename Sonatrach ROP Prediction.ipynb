{
  "cells": [
    {
      "cell_type": "markdown",
      "metadata": {
        "colab_type": "text",
        "id": "view-in-github"
      },
      "source": [
        "<a href=\"https://colab.research.google.com/github/BrouthenKamel/HAICK-2023/blob/main/HAICK_2023_Sonatrach_Challenge.ipynb\" target=\"_parent\"><img src=\"https://colab.research.google.com/assets/colab-badge.svg\" alt=\"Open In Colab\"/></a>"
      ]
    },
    {
      "cell_type": "code",
      "execution_count": null,
      "metadata": {
        "id": "vdAmYdc8PKzC"
      },
      "outputs": [],
      "source": [
        "import pandas as pd\n",
        "import numpy as np\n",
        "import matplotlib.pyplot as plt\n",
        "import sklearn\n",
        "import tensorflow as tf\n",
        "from tensorflow import keras as keras\n",
        "from sklearn.linear_model import SGDRegressor\n",
        "from sklearn.model_selection import GridSearchCV, train_test_split\n",
        "from sklearn.metrics import mean_squared_error\n",
        "from sklearn.feature_selection import mutual_info_regression\n",
        "from sklearn.preprocessing import StandardScaler\n",
        "from sklearn.decomposition import PCA\n",
        "from tensorflow.keras.models import Sequential\n",
        "from tensorflow.keras.layers import Dense, Dropout, Conv1D, MaxPooling1D\n",
        "from tensorflow.keras.callbacks import EarlyStopping\n",
        "import tensorflow.keras.backend as K\n",
        "import seaborn as sns"
      ]
    },
    {
      "cell_type": "code",
      "execution_count": null,
      "metadata": {
        "colab": {
          "base_uri": "https://localhost:8080/"
        },
        "id": "R_-o5XO0PP76",
        "outputId": "cffc6e9c-0d84-4be0-ea47-0b09052766e5"
      },
      "outputs": [],
      "source": [
        "from google.colab import drive\n",
        "drive.mount('/gdrive')\n",
        "%cd /gdrive\n",
        "\n",
        "data_path = '/gdrive/MyDrive/Sonatrach_Dataset'\n",
        "\n",
        "data_sample = pd.read_csv(data_path+'/sample.csv')\n",
        "data_train = pd.read_csv(data_path+'/train_dataset.csv')\n",
        "data_test = pd.read_csv(data_path+'/test_dataset.csv')\n",
        "\n",
        "target_col = \"ROP (Time)\""
      ]
    },
    {
      "cell_type": "code",
      "execution_count": null,
      "metadata": {
        "colab": {
          "base_uri": "https://localhost:8080/",
          "height": 283
        },
        "id": "b1WC_pyOPX9x",
        "outputId": "cae289dc-274e-4a50-abb5-14be7be629b0"
      },
      "outputs": [
        {
          "data": {
            "text/plain": [
              "<AxesSubplot:>"
            ]
          },
          "execution_count": 6,
          "metadata": {},
          "output_type": "execute_result"
        },
        {
          "data": {
            "image/png": "[encoded data removed]",
            "text/plain": [
              "<Figure size 432x288 with 1 Axes>"
            ]
          },
          "metadata": {},
          "output_type": "display_data"
        }
      ],
      "source": [
        "data_train[target_col].hist()"
      ]
    },
    {
      "cell_type": "code",
      "execution_count": null,
      "metadata": {
        "id": "QkfdoImwPhpA"
      },
      "outputs": [],
      "source": [
        "X = data_train.drop(columns = [target_col])\n",
        "y = data_train[target_col]"
      ]
    },
    {
      "cell_type": "code",
      "execution_count": null,
      "metadata": {
        "colab": {
          "base_uri": "https://localhost:8080/"
        },
        "id": "KASgOgySPlUq",
        "outputId": "c1394627-c91c-4320-d91a-956598bcf674"
      },
      "outputs": [
        {
          "data": {
            "text/plain": [
              "(42351,)"
            ]
          },
          "execution_count": 8,
          "metadata": {},
          "output_type": "execute_result"
        }
      ],
      "source": [
        "data_train[data_train[target_col] == 0][target_col].shape"
      ]
    },
    {
      "cell_type": "code",
      "execution_count": null,
      "metadata": {
        "colab": {
          "base_uri": "https://localhost:8080/",
          "height": 283
        },
        "id": "GGbtb7HzQC-M",
        "outputId": "04c190eb-f127-4bf4-bf1e-778ee180f54e"
      },
      "outputs": [
        {
          "data": {
            "text/plain": [
              "<AxesSubplot:>"
            ]
          },
          "execution_count": 4,
          "metadata": {},
          "output_type": "execute_result"
        },
        {
          "data": {
            "image/png": "[encoded data removed]",
            "text/plain": [
              "<Figure size 432x288 with 1 Axes>"
            ]
          },
          "metadata": {},
          "output_type": "display_data"
        }
      ],
      "source": [
        "data_train[\"is_penetratable\"] = data_train['ROP (Time)'] != 0\n",
        "data_train[\"is_penetratable\"] = data_train[\"is_penetratable\"].replace({True:1, False:0})\n",
        "data_train[\"is_penetratable\"].hist()"
      ]
    },
    {
      "cell_type": "code",
      "execution_count": null,
      "metadata": {
        "id": "oxLdAvJQQbEe"
      },
      "outputs": [],
      "source": [
        "X = data_train.drop(columns = [\"is_penetratable\", 'ROP (Time)'])\n",
        "y_classif = data_train[\"is_penetratable\"]\n",
        "y_regress = data_train[\"ROP (Time)\"]"
      ]
    },
    {
      "cell_type": "code",
      "execution_count": null,
      "metadata": {
        "id": "ZLPNx6arQ4n7"
      },
      "outputs": [],
      "source": [
        "from sklearn.feature_selection import mutual_info_classif\n",
        "\n",
        "def make_mi_scores(X, y):\n",
        "    mi_scores = mutual_info_classif(X, y)\n",
        "    mi_scores = pd.Series(mi_scores, name=\"MI Scores\", index=X.columns)\n",
        "    mi_scores = mi_scores.sort_values(ascending=False)\n",
        "    return mi_scores"
      ]
    },
    {
      "cell_type": "code",
      "execution_count": null,
      "metadata": {
        "id": "G0TNexq-Q7BM"
      },
      "outputs": [],
      "source": [
        "mi_scores = make_mi_scores(X, y_classif)"
      ]
    },
    {
      "cell_type": "code",
      "execution_count": null,
      "metadata": {
        "id": "4s8--euQ9ssM"
      },
      "outputs": [],
      "source": [
        "mi_scores"
      ]
    },
    {
      "cell_type": "code",
      "execution_count": null,
      "metadata": {
        "colab": {
          "base_uri": "https://localhost:8080/"
        },
        "id": "C0w8QY9BQ8sJ",
        "outputId": "7129bb7c-2ae1-4657-a853-f2b2e4ba3560"
      },
      "outputs": [
        {
          "data": {
            "text/plain": [
              "Index(['Depth: TMD', 'WOB Max', 'WOB Avg', 'RPM Avg', 'Torque Avg', 'RPM Inst',\n",
              "       'Torque Max', 'Torque Min', 'WOH Avg', 'WOH Max', 'WOH Inst',\n",
              "       'Flow In Pumps'],\n",
              "      dtype='object')"
            ]
          },
          "execution_count": 19,
          "metadata": {},
          "output_type": "execute_result"
        }
      ],
      "source": [
        "mi_scores[mi_scores > 0.2].index"
      ]
    },
    {
      "cell_type": "code",
      "execution_count": null,
      "metadata": {
        "id": "AOSwTT_LQoZ2"
      },
      "outputs": [],
      "source": [
        "features_classif = ['Depth: TMD', 'WOB Max', 'WOB Avg', 'RPM Avg', 'Torque Avg', 'RPM Inst',\n",
        "       'Torque Max', 'Torque Min', 'WOH Avg', 'WOH Max', 'WOH Inst',\n",
        "       'Flow In Pumps']\n",
        "X_classif = X[features_classif]"
      ]
    },
    {
      "cell_type": "code",
      "execution_count": null,
      "metadata": {
        "id": "QndBkONpsUCD"
      },
      "outputs": [],
      "source": [
        "scaler = StandardScaler()\n",
        "X_std = scaler.fit_transform(X)\n",
        "X_std = pd.DataFrame(X_std, columns=X.columns)"
      ]
    },
    {
      "cell_type": "code",
      "execution_count": null,
      "metadata": {
        "id": "bozTlV4vsPa-"
      },
      "outputs": [],
      "source": [
        "pca = PCA(n_components = 0.99)\n",
        "X_pca = pca.fit_transform(X_std)\n",
        "X_pca = pd.DataFrame(X_pca)"
      ]
    },
    {
      "cell_type": "code",
      "execution_count": null,
      "metadata": {
        "id": "Yl3rhn1tRs1l"
      },
      "outputs": [],
      "source": [
        "X_train_class, X_test_class, y_train_class, y_test_class = train_test_split(X_classif, y_classif, test_size = 0.3, random_state=42, stratify = y_classif)"
      ]
    },
    {
      "cell_type": "code",
      "execution_count": null,
      "metadata": {
        "id": "tT90A9ZLZy-b"
      },
      "outputs": [],
      "source": [
        "X_train_class, X_test_class, y_train_class, y_test_class = train_test_split(X_pca, y_classif, test_size = 0.3, random_state=42, stratify = y_classif)"
      ]
    },
    {
      "cell_type": "code",
      "execution_count": null,
      "metadata": {
        "id": "0jMR9syYSlX5"
      },
      "outputs": [],
      "source": [
        "from sklearn.model_selection import GridSearchCV\n",
        "from sklearn.preprocessing import StandardScaler\n",
        "from sklearn.metrics import accuracy_score, recall_score, precision_score"
      ]
    },
    {
      "cell_type": "code",
      "execution_count": null,
      "metadata": {
        "colab": {
          "base_uri": "https://localhost:8080/"
        },
        "id": "knzl4B4oTOFH",
        "outputId": "87823c08-64d4-4933-a40e-bf98b06280e5"
      },
      "outputs": [
        {
          "name": "stdout",
          "output_type": "stream",
          "text": [
            "(21600, 8) (21600,)\n"
          ]
        }
      ],
      "source": [
        "print(X_test_class.shape, y_test_class.shape)"
      ]
    },
    {
      "cell_type": "code",
      "execution_count": null,
      "metadata": {
        "colab": {
          "base_uri": "https://localhost:8080/"
        },
        "id": "GcuX2mtiRPhU",
        "outputId": "83e5a13f-a86c-4e83-8b50-b167eb803f0b"
      },
      "outputs": [
        {
          "name": "stdout",
          "output_type": "stream",
          "text": [
            "(21600,)\n",
            "accuracy = 0.9923148148148148 , recall = 0.9916807195053401 , precision = 0.9896779984292606\n"
          ]
        }
      ],
      "source": [
        "from xgboost import XGBClassifier\n",
        "\n",
        "xgb_cls = XGBClassifier(gamma=0.1, max_depth=15, n_estimators=300)\n",
        "\n",
        "xgb_cls.fit(X_train_class, y_train_class)\n",
        "\n",
        "y_pred = xgb_cls.predict(X_test_class)\n",
        "\n",
        "print(y_pred.shape)\n",
        "\n",
        "accuracy = accuracy_score(y_test_class, y_pred)\n",
        "recall = recall_score(y_test_class, y_pred)\n",
        "precision = precision_score(y_test_class, y_pred)\n",
        "\n",
        "print(f\"accuracy = {accuracy} , recall = {recall} , precision = {precision}\")"
      ]
    },
    {
      "cell_type": "code",
      "execution_count": null,
      "metadata": {
        "id": "VPBNZEYMUlRQ"
      },
      "outputs": [],
      "source": [
        "def make_mi_scores(X, y):\n",
        "    mi_scores = mutual_info_regression(X, y)\n",
        "    mi_scores = pd.Series(mi_scores, name=\"MI Scores\", index=X.columns)\n",
        "    mi_scores = mi_scores.sort_values(ascending=False)\n",
        "    return mi_scores"
      ]
    },
    {
      "cell_type": "code",
      "execution_count": null,
      "metadata": {
        "id": "zFTLOv8NU0z7"
      },
      "outputs": [],
      "source": [
        "mi_scores = make_mi_scores(X, y_regress)"
      ]
    },
    {
      "cell_type": "code",
      "execution_count": null,
      "metadata": {
        "colab": {
          "base_uri": "https://localhost:8080/"
        },
        "id": "DoVT78stVCkS",
        "outputId": "02c6e1b2-1b11-4b23-cc11-15ff309bf3e0"
      },
      "outputs": [
        {
          "data": {
            "text/plain": [
              "Index(['Depth: TMD', 'Bit Position', 'Gas Main: C1', 'Flow In Pumps',\n",
              "       'RPM Avg', 'Pressure: SPP Avg', 'Mud:Temperature IN Avg',\n",
              "       'Pit 2 Volume', 'RPM Inst', 'WOB Avg', 'WOB Max', 'Hook Position',\n",
              "       'Pit 5 Volume', 'Gas Main: C2', 'Pit 6 Volume', 'WOH Avg',\n",
              "       'Gas Main: nC4', 'WOH Max', 'Pit 3 Volume', 'Torque Max',\n",
              "       'Pit 4 Volume', 'Torque Avg', 'WOH Inst', 'Torque Min',\n",
              "       'Mud: Temperature OUT Avg', 'Gas Main: C3', 'Gas Main: iC5',\n",
              "       'Gas Main: nC5', 'Flow Paddle'],\n",
              "      dtype='object')"
            ]
          },
          "execution_count": 32,
          "metadata": {},
          "output_type": "execute_result"
        }
      ],
      "source": [
        "mi_scores[mi_scores > 0.5].index"
      ]
    },
    {
      "cell_type": "code",
      "execution_count": null,
      "metadata": {
        "id": "FFg_NdHHVKqs"
      },
      "outputs": [],
      "source": [
        "feature_regress = ['Depth: TMD', 'Bit Position', 'Gas Main: C1', 'Flow In Pumps',\n",
        "       'RPM Avg', 'Pressure: SPP Avg', 'Mud:Temperature IN Avg',\n",
        "       'Pit 2 Volume', 'RPM Inst', 'WOB Avg', 'WOB Max', 'Hook Position',\n",
        "       'Pit 5 Volume', 'Gas Main: C2', 'Pit 6 Volume', 'WOH Avg',\n",
        "       'Gas Main: nC4', 'WOH Max', 'Pit 3 Volume', 'Torque Max',\n",
        "       'Pit 4 Volume', 'Torque Avg', 'WOH Inst', 'Torque Min',\n",
        "       'Mud: Temperature OUT Avg', 'Gas Main: C3', 'Gas Main: iC5',\n",
        "       'Gas Main: nC5', 'Flow Paddle']"
      ]
    },
    {
      "cell_type": "code",
      "execution_count": null,
      "metadata": {
        "id": "y1k3iEVFVO1n"
      },
      "outputs": [],
      "source": [
        "X_regress = data_train[feature_regress]"
      ]
    },
    {
      "cell_type": "code",
      "execution_count": null,
      "metadata": {
        "id": "ei_04yqp4A_L"
      },
      "outputs": [],
      "source": [
        "X_train_regress, X_test_regress, y_train_regress, y_test_regress = train_test_split(X_pca, y_regress, test_size=0.3, random_state=42)"
      ]
    },
    {
      "cell_type": "code",
      "execution_count": null,
      "metadata": {
        "id": "flJ_ABKo4Ddx"
      },
      "outputs": [],
      "source": [
        "from sklearn.metrics import mean_squared_error\n",
        "from xgboost import XGBRegressor"
      ]
    },
    {
      "cell_type": "code",
      "execution_count": null,
      "metadata": {
        "id": "ARD_TXyNVjTR"
      },
      "outputs": [],
      "source": [
        "def train_func(n_estimators):\n",
        "  errors = dict()\n",
        "  xgb_reg = XGBRegressor(learning_rate = 0.1, max_depth = 20, n_estimators = n_estimators, n_jobs = -1, objective = 'reg:squarederror')\n",
        "\n",
        "  xgb_reg.fit(X_train_regress, y_train_regress)\n",
        "\n",
        "  y_pred = xgb_reg.predict(X_test_regress)\n",
        "  rmse = np.sqrt(mean_squared_error(y_test_regress, y_pred))\n",
        "  print(f\"RMSE: {rmse} with {n_estimators}\")\n",
        "  errors[str(n_estimators)] = rmse"
      ]
    },
    {
      "cell_type": "code",
      "execution_count": null,
      "metadata": {
        "colab": {
          "base_uri": "https://localhost:8080/"
        },
        "id": "90F0KmKH4k8v",
        "outputId": "a9c37001-7645-4b0a-e2cc-03a823668047"
      },
      "outputs": [
        {
          "name": "stdout",
          "output_type": "stream",
          "text": [
            "RMSE: 5.533872825373872 with 300\n",
            "RMSE: 5.533829215818984 with 500\n",
            "RMSE: 5.5338292158194875 with 700\n"
          ]
        }
      ],
      "source": [
        "for est in [900, 700]:\n",
        "  results = train_func(est)"
      ]
    },
    {
      "cell_type": "code",
      "execution_count": null,
      "metadata": {
        "id": "p0iHN4KD4tKP"
      },
      "outputs": [],
      "source": [
        "print(results)"
      ]
    },
    {
      "cell_type": "code",
      "execution_count": null,
      "metadata": {
        "colab": {
          "base_uri": "https://localhost:8080/"
        },
        "id": "wlT-yrwaXo3B",
        "outputId": "0b69a281-843b-49ae-e515-70ed251c763a"
      },
      "outputs": [
        {
          "name": "stdout",
          "output_type": "stream",
          "text": [
            "(14394,)\n"
          ]
        }
      ],
      "source": [
        "submission = dict()\n",
        "submission[\"id\"] = []\n",
        "submission[\"ROP (Time)\"] = []\n",
        "\n",
        "data_classif_pred = xgb_cls.predict( data_test )\n",
        "data_regress_pred = xgb_reg.predict( data_test )\n",
        "\n",
        "print(data_classif_pred.shape)\n"
      ]
    },
    {
      "cell_type": "code",
      "execution_count": null,
      "metadata": {
        "id": "CTyj2nUgYZ2F"
      },
      "outputs": [],
      "source": [
        "for i in range(data_classif_pred.shape[0]):\n",
        "  submission[\"id\"].append(i)\n",
        "  if( data_classif_pred[i] == 0 ):\n",
        "    submission[\"ROP (Time)\"].append(0)\n",
        "  else:\n",
        "    submission[\"ROP (Time)\"].append(data_regress_pred[i])"
      ]
    },
    {
      "cell_type": "code",
      "execution_count": null,
      "metadata": {
        "colab": {
          "base_uri": "https://localhost:8080/",
          "height": 286
        },
        "id": "QA7cAl5CYxAS",
        "outputId": "a6139f4e-0cd6-413a-909d-940b81f4c3f6"
      },
      "outputs": [
        {
          "data": {
            "text/plain": [
              "<AxesSubplot:>"
            ]
          },
          "execution_count": 50,
          "metadata": {},
          "output_type": "execute_result"
        },
        {
          "data": {
            "image/png": "[encoded data removed]",
            "text/plain": [
              "<Figure size 432x288 with 1 Axes>"
            ]
          },
          "metadata": {},
          "output_type": "display_data"
        }
      ],
      "source": [
        "submit = pd.DataFrame(submission)\n",
        "submit[\"ROP (Time)\"].plot()"
      ]
    },
    {
      "cell_type": "code",
      "execution_count": null,
      "metadata": {
        "id": "ilwodv-QY4DB"
      },
      "outputs": [],
      "source": [
        "submit.to_csv('/content/submission.csv', index=False)"
      ]
    }
  ],
  "metadata": {
    "accelerator": "GPU",
    "colab": {
      "include_colab_link": true,
      "provenance": []
    },
    "gpuClass": "standard",
    "kernelspec": {
      "display_name": "Python 3",
      "name": "python3"
    },
    "language_info": {
      "name": "python"
    }
  },
  "nbformat": 4,
  "nbformat_minor": 0
}
